{
 "cells": [
  {
   "cell_type": "markdown",
   "metadata": {
    "_uuid": "58cfaf3f852e43289edc7b1c9001d1c6a46bb8be"
   },
   "source": [
    "### Preparação dos Dados\n",
    "\n",
    "### Tarefa\n",
    "\n",
    "Preprocessamento dos dados de forma que permita melhores visualizações e generalizações por parte dos modelos.\n",
    "\n",
    "\n",
    "### Índice\n",
    "\n",
    "[1. Carregar dados e bibliotecas](#1.-Carregar-dados-e-bibliotecas)<br>\n",
    "[2. Limpeza dos Dados](#2.-Limpeza-dos-Dados)<br>\n",
    "        [-  2.1 Visão Geral](#2.1-Visão-Geral)<br>\n",
    "    [-  2.2 Concertando Colunas](#2.2-Concertando-Colunas)<br>\n",
    "    [-  2.3 Fix Dtypes](#2.3-Fix-Dtypes)<br>\n",
    "    [-  2.4 Fix Mês](#2.4-Fix-Mês)<br>\n",
    "    [-  2.5 Fix Pais](#2.5-Fix-Pais)<br>\n",
    "    [3. Novos Atributos](#3.-Novos-Atributos)<br>\n",
    "    [-  3.1 Abreviação Cargo](#3.1-Abreviação-Cargo)<br>\n",
    "    [-  3.2 Nível Cargo](#3.2-Nível-Cargo)<br>\n",
    "    [-  3.3 Regra Alcance Parcial](#3.3-Regra-Alcance-Parcial)<br>\n",
    "\n",
    "\n"
   ]
  },
  {
   "cell_type": "markdown",
   "metadata": {
    "_uuid": "88fc112f928afe135b816fbf3aadb80b28ccb137"
   },
   "source": [
    "## 1. Carregar dados e bibliotecas"
   ]
  },
  {
   "cell_type": "code",
   "execution_count": 1,
   "metadata": {
    "_cell_guid": "b1076dfc-b9ad-4769-8c92-a6c4dae69d19",
    "_uuid": "8f2839f25d086af736a60e9eeb907d3b93b6e0e5"
   },
   "outputs": [],
   "source": [
    "import numpy as np\n",
    "import pandas as pd\n",
    "import matplotlib.pyplot as plt\n",
    "import missingno\n",
    "import seaborn as sns\n",
    "%matplotlib inline"
   ]
  },
  {
   "cell_type": "code",
   "execution_count": 2,
   "metadata": {
    "_uuid": "e8c2332f5afdf93dd6900a090a50033b6a1877e5",
    "scrolled": true
   },
   "outputs": [
    {
     "name": "stdout",
     "output_type": "stream",
     "text": [
      "Base com 270633 linhas e 38 colunas.\n"
     ]
    }
   ],
   "source": [
    "df = pd.read_csv('../data/raw/ambev-final-dataset.csv', encoding='utf-8', low_memory=False)\n",
    "print('Base com {} linhas e {} colunas.'.format(*df.shape))"
   ]
  },
  {
   "cell_type": "code",
   "execution_count": 3,
   "metadata": {},
   "outputs": [],
   "source": [
    "# Ajeitando a Nomenclatura\n",
    "nome_colunas = [\n",
    "    'mes', 'pais', 'mundo', 'area_regional', 'unidade',\n",
    "    'grupo_cargo', 'cargo', 'grade', 'banda', 'area', 'id_funcionario',\n",
    "    'id_gestor', 'id_kpi', 'diretoria', 'area_diretoria',\n",
    "    'funcao', 'tipo_meta', 'categoria_kpi', 'nome_kpi', 'peso_kpi',\n",
    "    'prazo', 'regra_alcance_parcial', 'meta_projeto', 'pct_ating_mes',\n",
    "    'pct_pts_mes', 'pct_acum_mes', 'pct_ating_acum', 'pct_pts_acumulado',\n",
    "    'pct_acum_acumulado', 'pct_ating_fim_exer', 'pct_pts_fim_exer',\n",
    "    'pct_acum_fim_exer', 'status_meta', 'c33', 'c34', 'c35', 'c36', 'c37']\n",
    "df.columns = nome_colunas"
   ]
  },
  {
   "cell_type": "markdown",
   "metadata": {
    "_uuid": "01e26a9d484a837c38ec29c356f5c1ad8354c24d"
   },
   "source": [
    "## 2. Limpeza de Dados"
   ]
  },
  {
   "cell_type": "markdown",
   "metadata": {
    "_uuid": "522dc3aa5a1682186a91664edf9b068ae03fdd68"
   },
   "source": [
    "### 2.1 Visão Geral\n",
    "\n",
    "Exploração superficial do dataset."
   ]
  },
  {
   "cell_type": "code",
   "execution_count": 4,
   "metadata": {
    "_uuid": "36742f69f87be29bc99e7807cd75dea0d9a8aff7"
   },
   "outputs": [
    {
     "data": {
      "text/html": [
       "<div>\n",
       "<style scoped>\n",
       "    .dataframe tbody tr th:only-of-type {\n",
       "        vertical-align: middle;\n",
       "    }\n",
       "\n",
       "    .dataframe tbody tr th {\n",
       "        vertical-align: top;\n",
       "    }\n",
       "\n",
       "    .dataframe thead th {\n",
       "        text-align: right;\n",
       "    }\n",
       "</style>\n",
       "<table border=\"1\" class=\"dataframe\">\n",
       "  <thead>\n",
       "    <tr style=\"text-align: right;\">\n",
       "      <th></th>\n",
       "      <th>count</th>\n",
       "      <th>unique</th>\n",
       "      <th>top</th>\n",
       "      <th>freq</th>\n",
       "      <th>mean</th>\n",
       "      <th>std</th>\n",
       "      <th>min</th>\n",
       "      <th>25%</th>\n",
       "      <th>50%</th>\n",
       "      <th>75%</th>\n",
       "      <th>max</th>\n",
       "    </tr>\n",
       "  </thead>\n",
       "  <tbody>\n",
       "    <tr>\n",
       "      <th>mes</th>\n",
       "      <td>270633</td>\n",
       "      <td>NaN</td>\n",
       "      <td>NaN</td>\n",
       "      <td>NaN</td>\n",
       "      <td>80149.4</td>\n",
       "      <td>28171.7</td>\n",
       "      <td>32017</td>\n",
       "      <td>62017</td>\n",
       "      <td>82017</td>\n",
       "      <td>102017</td>\n",
       "      <td>122017</td>\n",
       "    </tr>\n",
       "    <tr>\n",
       "      <th>pais</th>\n",
       "      <td>270633</td>\n",
       "      <td>9</td>\n",
       "      <td>Brasil</td>\n",
       "      <td>230229</td>\n",
       "      <td>NaN</td>\n",
       "      <td>NaN</td>\n",
       "      <td>NaN</td>\n",
       "      <td>NaN</td>\n",
       "      <td>NaN</td>\n",
       "      <td>NaN</td>\n",
       "      <td>NaN</td>\n",
       "    </tr>\n",
       "    <tr>\n",
       "      <th>mundo</th>\n",
       "      <td>270501</td>\n",
       "      <td>30</td>\n",
       "      <td>Supply</td>\n",
       "      <td>108891</td>\n",
       "      <td>NaN</td>\n",
       "      <td>NaN</td>\n",
       "      <td>NaN</td>\n",
       "      <td>NaN</td>\n",
       "      <td>NaN</td>\n",
       "      <td>NaN</td>\n",
       "      <td>NaN</td>\n",
       "    </tr>\n",
       "    <tr>\n",
       "      <th>area_regional</th>\n",
       "      <td>270633</td>\n",
       "      <td>NaN</td>\n",
       "      <td>NaN</td>\n",
       "      <td>NaN</td>\n",
       "      <td>10.9267</td>\n",
       "      <td>6.96919</td>\n",
       "      <td>0</td>\n",
       "      <td>4</td>\n",
       "      <td>11</td>\n",
       "      <td>19</td>\n",
       "      <td>22</td>\n",
       "    </tr>\n",
       "    <tr>\n",
       "      <th>unidade</th>\n",
       "      <td>270633</td>\n",
       "      <td>NaN</td>\n",
       "      <td>NaN</td>\n",
       "      <td>NaN</td>\n",
       "      <td>181.461</td>\n",
       "      <td>100.705</td>\n",
       "      <td>0</td>\n",
       "      <td>94</td>\n",
       "      <td>221</td>\n",
       "      <td>264</td>\n",
       "      <td>331</td>\n",
       "    </tr>\n",
       "    <tr>\n",
       "      <th>grupo_cargo</th>\n",
       "      <td>230099</td>\n",
       "      <td>140</td>\n",
       "      <td>SUPERVISOR FABRIL</td>\n",
       "      <td>45482</td>\n",
       "      <td>NaN</td>\n",
       "      <td>NaN</td>\n",
       "      <td>NaN</td>\n",
       "      <td>NaN</td>\n",
       "      <td>NaN</td>\n",
       "      <td>NaN</td>\n",
       "      <td>NaN</td>\n",
       "    </tr>\n",
       "    <tr>\n",
       "      <th>cargo</th>\n",
       "      <td>262118</td>\n",
       "      <td>339</td>\n",
       "      <td>ANALISTA I</td>\n",
       "      <td>18658</td>\n",
       "      <td>NaN</td>\n",
       "      <td>NaN</td>\n",
       "      <td>NaN</td>\n",
       "      <td>NaN</td>\n",
       "      <td>NaN</td>\n",
       "      <td>NaN</td>\n",
       "      <td>NaN</td>\n",
       "    </tr>\n",
       "    <tr>\n",
       "      <th>grade</th>\n",
       "      <td>262118</td>\n",
       "      <td>NaN</td>\n",
       "      <td>NaN</td>\n",
       "      <td>NaN</td>\n",
       "      <td>10.5857</td>\n",
       "      <td>1.96224</td>\n",
       "      <td>1</td>\n",
       "      <td>9</td>\n",
       "      <td>10</td>\n",
       "      <td>12</td>\n",
       "      <td>17</td>\n",
       "    </tr>\n",
       "    <tr>\n",
       "      <th>banda</th>\n",
       "      <td>262118</td>\n",
       "      <td>23</td>\n",
       "      <td>VII-B</td>\n",
       "      <td>41953</td>\n",
       "      <td>NaN</td>\n",
       "      <td>NaN</td>\n",
       "      <td>NaN</td>\n",
       "      <td>NaN</td>\n",
       "      <td>NaN</td>\n",
       "      <td>NaN</td>\n",
       "      <td>NaN</td>\n",
       "    </tr>\n",
       "    <tr>\n",
       "      <th>area</th>\n",
       "      <td>262116</td>\n",
       "      <td>113</td>\n",
       "      <td>PACKAGING</td>\n",
       "      <td>24771</td>\n",
       "      <td>NaN</td>\n",
       "      <td>NaN</td>\n",
       "      <td>NaN</td>\n",
       "      <td>NaN</td>\n",
       "      <td>NaN</td>\n",
       "      <td>NaN</td>\n",
       "      <td>NaN</td>\n",
       "    </tr>\n",
       "    <tr>\n",
       "      <th>id_funcionario</th>\n",
       "      <td>270633</td>\n",
       "      <td>NaN</td>\n",
       "      <td>NaN</td>\n",
       "      <td>NaN</td>\n",
       "      <td>3935.7</td>\n",
       "      <td>2273.32</td>\n",
       "      <td>0</td>\n",
       "      <td>1961</td>\n",
       "      <td>3947</td>\n",
       "      <td>5919</td>\n",
       "      <td>7858</td>\n",
       "    </tr>\n",
       "    <tr>\n",
       "      <th>id_gestor</th>\n",
       "      <td>270633</td>\n",
       "      <td>NaN</td>\n",
       "      <td>NaN</td>\n",
       "      <td>NaN</td>\n",
       "      <td>1002.3</td>\n",
       "      <td>579.568</td>\n",
       "      <td>0</td>\n",
       "      <td>494</td>\n",
       "      <td>996</td>\n",
       "      <td>1521</td>\n",
       "      <td>2004</td>\n",
       "    </tr>\n",
       "    <tr>\n",
       "      <th>id_kpi</th>\n",
       "      <td>230229</td>\n",
       "      <td>3491</td>\n",
       "      <td>001GG0305</td>\n",
       "      <td>11289</td>\n",
       "      <td>NaN</td>\n",
       "      <td>NaN</td>\n",
       "      <td>NaN</td>\n",
       "      <td>NaN</td>\n",
       "      <td>NaN</td>\n",
       "      <td>NaN</td>\n",
       "      <td>NaN</td>\n",
       "    </tr>\n",
       "    <tr>\n",
       "      <th>diretoria</th>\n",
       "      <td>230229</td>\n",
       "      <td>14</td>\n",
       "      <td>Diretoria Industrial</td>\n",
       "      <td>84045</td>\n",
       "      <td>NaN</td>\n",
       "      <td>NaN</td>\n",
       "      <td>NaN</td>\n",
       "      <td>NaN</td>\n",
       "      <td>NaN</td>\n",
       "      <td>NaN</td>\n",
       "      <td>NaN</td>\n",
       "    </tr>\n",
       "    <tr>\n",
       "      <th>area_diretoria</th>\n",
       "      <td>230229</td>\n",
       "      <td>8</td>\n",
       "      <td>AC</td>\n",
       "      <td>100097</td>\n",
       "      <td>NaN</td>\n",
       "      <td>NaN</td>\n",
       "      <td>NaN</td>\n",
       "      <td>NaN</td>\n",
       "      <td>NaN</td>\n",
       "      <td>NaN</td>\n",
       "      <td>NaN</td>\n",
       "    </tr>\n",
       "    <tr>\n",
       "      <th>funcao</th>\n",
       "      <td>230229</td>\n",
       "      <td>94</td>\n",
       "      <td>SUPERVISOR</td>\n",
       "      <td>67408</td>\n",
       "      <td>NaN</td>\n",
       "      <td>NaN</td>\n",
       "      <td>NaN</td>\n",
       "      <td>NaN</td>\n",
       "      <td>NaN</td>\n",
       "      <td>NaN</td>\n",
       "      <td>NaN</td>\n",
       "    </tr>\n",
       "    <tr>\n",
       "      <th>tipo_meta</th>\n",
       "      <td>270633</td>\n",
       "      <td>9</td>\n",
       "      <td>Mandatório</td>\n",
       "      <td>165754</td>\n",
       "      <td>NaN</td>\n",
       "      <td>NaN</td>\n",
       "      <td>NaN</td>\n",
       "      <td>NaN</td>\n",
       "      <td>NaN</td>\n",
       "      <td>NaN</td>\n",
       "      <td>NaN</td>\n",
       "    </tr>\n",
       "    <tr>\n",
       "      <th>categoria_kpi</th>\n",
       "      <td>267176</td>\n",
       "      <td>139</td>\n",
       "      <td>Melhoria Contínua</td>\n",
       "      <td>90912</td>\n",
       "      <td>NaN</td>\n",
       "      <td>NaN</td>\n",
       "      <td>NaN</td>\n",
       "      <td>NaN</td>\n",
       "      <td>NaN</td>\n",
       "      <td>NaN</td>\n",
       "      <td>NaN</td>\n",
       "    </tr>\n",
       "    <tr>\n",
       "      <th>nome_kpi</th>\n",
       "      <td>270633</td>\n",
       "      <td>NaN</td>\n",
       "      <td>NaN</td>\n",
       "      <td>NaN</td>\n",
       "      <td>2761.77</td>\n",
       "      <td>1417.98</td>\n",
       "      <td>0</td>\n",
       "      <td>1589</td>\n",
       "      <td>2945</td>\n",
       "      <td>3973</td>\n",
       "      <td>4917</td>\n",
       "    </tr>\n",
       "    <tr>\n",
       "      <th>peso_kpi</th>\n",
       "      <td>270633</td>\n",
       "      <td>NaN</td>\n",
       "      <td>NaN</td>\n",
       "      <td>NaN</td>\n",
       "      <td>20.0893</td>\n",
       "      <td>4.33451</td>\n",
       "      <td>0</td>\n",
       "      <td>20</td>\n",
       "      <td>20</td>\n",
       "      <td>20</td>\n",
       "      <td>80</td>\n",
       "    </tr>\n",
       "    <tr>\n",
       "      <th>prazo</th>\n",
       "      <td>267176</td>\n",
       "      <td>38</td>\n",
       "      <td>43100</td>\n",
       "      <td>161187</td>\n",
       "      <td>NaN</td>\n",
       "      <td>NaN</td>\n",
       "      <td>NaN</td>\n",
       "      <td>NaN</td>\n",
       "      <td>NaN</td>\n",
       "      <td>NaN</td>\n",
       "      <td>NaN</td>\n",
       "    </tr>\n",
       "    <tr>\n",
       "      <th>regra_alcance_parcial</th>\n",
       "      <td>256516</td>\n",
       "      <td>1505</td>\n",
       "      <td>Regra da Lacuna: Lacuna = (Real - Real AA)/(Me...</td>\n",
       "      <td>41605</td>\n",
       "      <td>NaN</td>\n",
       "      <td>NaN</td>\n",
       "      <td>NaN</td>\n",
       "      <td>NaN</td>\n",
       "      <td>NaN</td>\n",
       "      <td>NaN</td>\n",
       "      <td>NaN</td>\n",
       "    </tr>\n",
       "    <tr>\n",
       "      <th>meta_projeto</th>\n",
       "      <td>106857</td>\n",
       "      <td>10</td>\n",
       "      <td>Não</td>\n",
       "      <td>101892</td>\n",
       "      <td>NaN</td>\n",
       "      <td>NaN</td>\n",
       "      <td>NaN</td>\n",
       "      <td>NaN</td>\n",
       "      <td>NaN</td>\n",
       "      <td>NaN</td>\n",
       "      <td>NaN</td>\n",
       "    </tr>\n",
       "    <tr>\n",
       "      <th>pct_ating_mes</th>\n",
       "      <td>106312</td>\n",
       "      <td>7</td>\n",
       "      <td>100</td>\n",
       "      <td>63838</td>\n",
       "      <td>NaN</td>\n",
       "      <td>NaN</td>\n",
       "      <td>NaN</td>\n",
       "      <td>NaN</td>\n",
       "      <td>NaN</td>\n",
       "      <td>NaN</td>\n",
       "      <td>NaN</td>\n",
       "    </tr>\n",
       "    <tr>\n",
       "      <th>pct_pts_mes</th>\n",
       "      <td>106312</td>\n",
       "      <td>7</td>\n",
       "      <td>100</td>\n",
       "      <td>63839</td>\n",
       "      <td>NaN</td>\n",
       "      <td>NaN</td>\n",
       "      <td>NaN</td>\n",
       "      <td>NaN</td>\n",
       "      <td>NaN</td>\n",
       "      <td>NaN</td>\n",
       "      <td>NaN</td>\n",
       "    </tr>\n",
       "    <tr>\n",
       "      <th>pct_acum_mes</th>\n",
       "      <td>106286</td>\n",
       "      <td>19</td>\n",
       "      <td>20</td>\n",
       "      <td>49791</td>\n",
       "      <td>NaN</td>\n",
       "      <td>NaN</td>\n",
       "      <td>NaN</td>\n",
       "      <td>NaN</td>\n",
       "      <td>NaN</td>\n",
       "      <td>NaN</td>\n",
       "      <td>NaN</td>\n",
       "    </tr>\n",
       "    <tr>\n",
       "      <th>pct_ating_acum</th>\n",
       "      <td>106713</td>\n",
       "      <td>6</td>\n",
       "      <td>100</td>\n",
       "      <td>64446</td>\n",
       "      <td>NaN</td>\n",
       "      <td>NaN</td>\n",
       "      <td>NaN</td>\n",
       "      <td>NaN</td>\n",
       "      <td>NaN</td>\n",
       "      <td>NaN</td>\n",
       "      <td>NaN</td>\n",
       "    </tr>\n",
       "    <tr>\n",
       "      <th>pct_pts_acumulado</th>\n",
       "      <td>129323</td>\n",
       "      <td>5</td>\n",
       "      <td>100</td>\n",
       "      <td>75649</td>\n",
       "      <td>NaN</td>\n",
       "      <td>NaN</td>\n",
       "      <td>NaN</td>\n",
       "      <td>NaN</td>\n",
       "      <td>NaN</td>\n",
       "      <td>NaN</td>\n",
       "      <td>NaN</td>\n",
       "    </tr>\n",
       "    <tr>\n",
       "      <th>pct_acum_acumulado</th>\n",
       "      <td>120624</td>\n",
       "      <td>NaN</td>\n",
       "      <td>NaN</td>\n",
       "      <td>NaN</td>\n",
       "      <td>13.9426</td>\n",
       "      <td>9.84635</td>\n",
       "      <td>0</td>\n",
       "      <td>0</td>\n",
       "      <td>20</td>\n",
       "      <td>20</td>\n",
       "      <td>100</td>\n",
       "    </tr>\n",
       "    <tr>\n",
       "      <th>pct_ating_fim_exer</th>\n",
       "      <td>106766</td>\n",
       "      <td>NaN</td>\n",
       "      <td>NaN</td>\n",
       "      <td>NaN</td>\n",
       "      <td>92.2455</td>\n",
       "      <td>24.2336</td>\n",
       "      <td>0</td>\n",
       "      <td>100</td>\n",
       "      <td>100</td>\n",
       "      <td>100</td>\n",
       "      <td>100</td>\n",
       "    </tr>\n",
       "    <tr>\n",
       "      <th>pct_pts_fim_exer</th>\n",
       "      <td>129371</td>\n",
       "      <td>NaN</td>\n",
       "      <td>NaN</td>\n",
       "      <td>NaN</td>\n",
       "      <td>87.8115</td>\n",
       "      <td>29.508</td>\n",
       "      <td>0</td>\n",
       "      <td>100</td>\n",
       "      <td>100</td>\n",
       "      <td>100</td>\n",
       "      <td>100</td>\n",
       "    </tr>\n",
       "    <tr>\n",
       "      <th>pct_acum_fim_exer</th>\n",
       "      <td>131582</td>\n",
       "      <td>NaN</td>\n",
       "      <td>NaN</td>\n",
       "      <td>NaN</td>\n",
       "      <td>17.9395</td>\n",
       "      <td>7.63586</td>\n",
       "      <td>0</td>\n",
       "      <td>16</td>\n",
       "      <td>20</td>\n",
       "      <td>20</td>\n",
       "      <td>100</td>\n",
       "    </tr>\n",
       "    <tr>\n",
       "      <th>status_meta</th>\n",
       "      <td>106766</td>\n",
       "      <td>6</td>\n",
       "      <td>Monitoramento Aprovado</td>\n",
       "      <td>106710</td>\n",
       "      <td>NaN</td>\n",
       "      <td>NaN</td>\n",
       "      <td>NaN</td>\n",
       "      <td>NaN</td>\n",
       "      <td>NaN</td>\n",
       "      <td>NaN</td>\n",
       "      <td>NaN</td>\n",
       "    </tr>\n",
       "    <tr>\n",
       "      <th>c33</th>\n",
       "      <td>29</td>\n",
       "      <td>3</td>\n",
       "      <td>100</td>\n",
       "      <td>26</td>\n",
       "      <td>NaN</td>\n",
       "      <td>NaN</td>\n",
       "      <td>NaN</td>\n",
       "      <td>NaN</td>\n",
       "      <td>NaN</td>\n",
       "      <td>NaN</td>\n",
       "      <td>NaN</td>\n",
       "    </tr>\n",
       "    <tr>\n",
       "      <th>c34</th>\n",
       "      <td>28</td>\n",
       "      <td>NaN</td>\n",
       "      <td>NaN</td>\n",
       "      <td>NaN</td>\n",
       "      <td>37.5</td>\n",
       "      <td>18.1812</td>\n",
       "      <td>30</td>\n",
       "      <td>30</td>\n",
       "      <td>30</td>\n",
       "      <td>40</td>\n",
       "      <td>100</td>\n",
       "    </tr>\n",
       "    <tr>\n",
       "      <th>c35</th>\n",
       "      <td>2</td>\n",
       "      <td>NaN</td>\n",
       "      <td>NaN</td>\n",
       "      <td>NaN</td>\n",
       "      <td>100</td>\n",
       "      <td>0</td>\n",
       "      <td>100</td>\n",
       "      <td>100</td>\n",
       "      <td>100</td>\n",
       "      <td>100</td>\n",
       "      <td>100</td>\n",
       "    </tr>\n",
       "    <tr>\n",
       "      <th>c36</th>\n",
       "      <td>2</td>\n",
       "      <td>NaN</td>\n",
       "      <td>NaN</td>\n",
       "      <td>NaN</td>\n",
       "      <td>20</td>\n",
       "      <td>0</td>\n",
       "      <td>20</td>\n",
       "      <td>20</td>\n",
       "      <td>20</td>\n",
       "      <td>20</td>\n",
       "      <td>20</td>\n",
       "    </tr>\n",
       "    <tr>\n",
       "      <th>c37</th>\n",
       "      <td>2</td>\n",
       "      <td>1</td>\n",
       "      <td>Monitoramento Aprovado</td>\n",
       "      <td>2</td>\n",
       "      <td>NaN</td>\n",
       "      <td>NaN</td>\n",
       "      <td>NaN</td>\n",
       "      <td>NaN</td>\n",
       "      <td>NaN</td>\n",
       "      <td>NaN</td>\n",
       "      <td>NaN</td>\n",
       "    </tr>\n",
       "  </tbody>\n",
       "</table>\n",
       "</div>"
      ],
      "text/plain": [
       "                        count unique  \\\n",
       "mes                    270633    NaN   \n",
       "pais                   270633      9   \n",
       "mundo                  270501     30   \n",
       "area_regional          270633    NaN   \n",
       "unidade                270633    NaN   \n",
       "grupo_cargo            230099    140   \n",
       "cargo                  262118    339   \n",
       "grade                  262118    NaN   \n",
       "banda                  262118     23   \n",
       "area                   262116    113   \n",
       "id_funcionario         270633    NaN   \n",
       "id_gestor              270633    NaN   \n",
       "id_kpi                 230229   3491   \n",
       "diretoria              230229     14   \n",
       "area_diretoria         230229      8   \n",
       "funcao                 230229     94   \n",
       "tipo_meta              270633      9   \n",
       "categoria_kpi          267176    139   \n",
       "nome_kpi               270633    NaN   \n",
       "peso_kpi               270633    NaN   \n",
       "prazo                  267176     38   \n",
       "regra_alcance_parcial  256516   1505   \n",
       "meta_projeto           106857     10   \n",
       "pct_ating_mes          106312      7   \n",
       "pct_pts_mes            106312      7   \n",
       "pct_acum_mes           106286     19   \n",
       "pct_ating_acum         106713      6   \n",
       "pct_pts_acumulado      129323      5   \n",
       "pct_acum_acumulado     120624    NaN   \n",
       "pct_ating_fim_exer     106766    NaN   \n",
       "pct_pts_fim_exer       129371    NaN   \n",
       "pct_acum_fim_exer      131582    NaN   \n",
       "status_meta            106766      6   \n",
       "c33                        29      3   \n",
       "c34                        28    NaN   \n",
       "c35                         2    NaN   \n",
       "c36                         2    NaN   \n",
       "c37                         2      1   \n",
       "\n",
       "                                                                     top  \\\n",
       "mes                                                                  NaN   \n",
       "pais                                                              Brasil   \n",
       "mundo                                                             Supply   \n",
       "area_regional                                                        NaN   \n",
       "unidade                                                              NaN   \n",
       "grupo_cargo                                            SUPERVISOR FABRIL   \n",
       "cargo                                                         ANALISTA I   \n",
       "grade                                                                NaN   \n",
       "banda                                                              VII-B   \n",
       "area                                                           PACKAGING   \n",
       "id_funcionario                                                       NaN   \n",
       "id_gestor                                                            NaN   \n",
       "id_kpi                                                         001GG0305   \n",
       "diretoria                                           Diretoria Industrial   \n",
       "area_diretoria                                                        AC   \n",
       "funcao                                                        SUPERVISOR   \n",
       "tipo_meta                                                     Mandatório   \n",
       "categoria_kpi                                          Melhoria Contínua   \n",
       "nome_kpi                                                             NaN   \n",
       "peso_kpi                                                             NaN   \n",
       "prazo                                                              43100   \n",
       "regra_alcance_parcial  Regra da Lacuna: Lacuna = (Real - Real AA)/(Me...   \n",
       "meta_projeto                                                         Não   \n",
       "pct_ating_mes                                                        100   \n",
       "pct_pts_mes                                                          100   \n",
       "pct_acum_mes                                                          20   \n",
       "pct_ating_acum                                                       100   \n",
       "pct_pts_acumulado                                                    100   \n",
       "pct_acum_acumulado                                                   NaN   \n",
       "pct_ating_fim_exer                                                   NaN   \n",
       "pct_pts_fim_exer                                                     NaN   \n",
       "pct_acum_fim_exer                                                    NaN   \n",
       "status_meta                                       Monitoramento Aprovado   \n",
       "c33                                                                  100   \n",
       "c34                                                                  NaN   \n",
       "c35                                                                  NaN   \n",
       "c36                                                                  NaN   \n",
       "c37                                               Monitoramento Aprovado   \n",
       "\n",
       "                         freq     mean      std    min    25%    50%     75%  \\\n",
       "mes                       NaN  80149.4  28171.7  32017  62017  82017  102017   \n",
       "pais                   230229      NaN      NaN    NaN    NaN    NaN     NaN   \n",
       "mundo                  108891      NaN      NaN    NaN    NaN    NaN     NaN   \n",
       "area_regional             NaN  10.9267  6.96919      0      4     11      19   \n",
       "unidade                   NaN  181.461  100.705      0     94    221     264   \n",
       "grupo_cargo             45482      NaN      NaN    NaN    NaN    NaN     NaN   \n",
       "cargo                   18658      NaN      NaN    NaN    NaN    NaN     NaN   \n",
       "grade                     NaN  10.5857  1.96224      1      9     10      12   \n",
       "banda                   41953      NaN      NaN    NaN    NaN    NaN     NaN   \n",
       "area                    24771      NaN      NaN    NaN    NaN    NaN     NaN   \n",
       "id_funcionario            NaN   3935.7  2273.32      0   1961   3947    5919   \n",
       "id_gestor                 NaN   1002.3  579.568      0    494    996    1521   \n",
       "id_kpi                  11289      NaN      NaN    NaN    NaN    NaN     NaN   \n",
       "diretoria               84045      NaN      NaN    NaN    NaN    NaN     NaN   \n",
       "area_diretoria         100097      NaN      NaN    NaN    NaN    NaN     NaN   \n",
       "funcao                  67408      NaN      NaN    NaN    NaN    NaN     NaN   \n",
       "tipo_meta              165754      NaN      NaN    NaN    NaN    NaN     NaN   \n",
       "categoria_kpi           90912      NaN      NaN    NaN    NaN    NaN     NaN   \n",
       "nome_kpi                  NaN  2761.77  1417.98      0   1589   2945    3973   \n",
       "peso_kpi                  NaN  20.0893  4.33451      0     20     20      20   \n",
       "prazo                  161187      NaN      NaN    NaN    NaN    NaN     NaN   \n",
       "regra_alcance_parcial   41605      NaN      NaN    NaN    NaN    NaN     NaN   \n",
       "meta_projeto           101892      NaN      NaN    NaN    NaN    NaN     NaN   \n",
       "pct_ating_mes           63838      NaN      NaN    NaN    NaN    NaN     NaN   \n",
       "pct_pts_mes             63839      NaN      NaN    NaN    NaN    NaN     NaN   \n",
       "pct_acum_mes            49791      NaN      NaN    NaN    NaN    NaN     NaN   \n",
       "pct_ating_acum          64446      NaN      NaN    NaN    NaN    NaN     NaN   \n",
       "pct_pts_acumulado       75649      NaN      NaN    NaN    NaN    NaN     NaN   \n",
       "pct_acum_acumulado        NaN  13.9426  9.84635      0      0     20      20   \n",
       "pct_ating_fim_exer        NaN  92.2455  24.2336      0    100    100     100   \n",
       "pct_pts_fim_exer          NaN  87.8115   29.508      0    100    100     100   \n",
       "pct_acum_fim_exer         NaN  17.9395  7.63586      0     16     20      20   \n",
       "status_meta            106710      NaN      NaN    NaN    NaN    NaN     NaN   \n",
       "c33                        26      NaN      NaN    NaN    NaN    NaN     NaN   \n",
       "c34                       NaN     37.5  18.1812     30     30     30      40   \n",
       "c35                       NaN      100        0    100    100    100     100   \n",
       "c36                       NaN       20        0     20     20     20      20   \n",
       "c37                         2      NaN      NaN    NaN    NaN    NaN     NaN   \n",
       "\n",
       "                          max  \n",
       "mes                    122017  \n",
       "pais                      NaN  \n",
       "mundo                     NaN  \n",
       "area_regional              22  \n",
       "unidade                   331  \n",
       "grupo_cargo               NaN  \n",
       "cargo                     NaN  \n",
       "grade                      17  \n",
       "banda                     NaN  \n",
       "area                      NaN  \n",
       "id_funcionario           7858  \n",
       "id_gestor                2004  \n",
       "id_kpi                    NaN  \n",
       "diretoria                 NaN  \n",
       "area_diretoria            NaN  \n",
       "funcao                    NaN  \n",
       "tipo_meta                 NaN  \n",
       "categoria_kpi             NaN  \n",
       "nome_kpi                 4917  \n",
       "peso_kpi                   80  \n",
       "prazo                     NaN  \n",
       "regra_alcance_parcial     NaN  \n",
       "meta_projeto              NaN  \n",
       "pct_ating_mes             NaN  \n",
       "pct_pts_mes               NaN  \n",
       "pct_acum_mes              NaN  \n",
       "pct_ating_acum            NaN  \n",
       "pct_pts_acumulado         NaN  \n",
       "pct_acum_acumulado        100  \n",
       "pct_ating_fim_exer        100  \n",
       "pct_pts_fim_exer          100  \n",
       "pct_acum_fim_exer         100  \n",
       "status_meta               NaN  \n",
       "c33                       NaN  \n",
       "c34                       100  \n",
       "c35                       100  \n",
       "c36                        20  \n",
       "c37                       NaN  "
      ]
     },
     "execution_count": 4,
     "metadata": {},
     "output_type": "execute_result"
    }
   ],
   "source": [
    "df.describe(include='all').transpose()"
   ]
  },
  {
   "cell_type": "code",
   "execution_count": 5,
   "metadata": {
    "_uuid": "5c9e9cf09da5cf67272fe24990d0ae580d931831"
   },
   "outputs": [
    {
     "data": {
      "text/plain": [
       "Text(0.5, 1.0, 'Percentual de dados não faltantes')"
      ]
     },
     "execution_count": 5,
     "metadata": {},
     "output_type": "execute_result"
    },
    {
     "data": {
      "image/png": "[encoded data removed]",
      "text/plain": [
       "<Figure size 1728x720 with 3 Axes>"
      ]
     },
     "metadata": {
      "needs_background": "light"
     },
     "output_type": "display_data"
    }
   ],
   "source": [
    "g = missingno.bar(df)\n",
    "g.set_title('Percentual de dados não faltantes', pad=80)"
   ]
  },
  {
   "cell_type": "code",
   "execution_count": 6,
   "metadata": {
    "_uuid": "e17c430b723fe3ee5a6d44b8fe9a9fc6b54d7ba3",
    "scrolled": false
   },
   "outputs": [
    {
     "data": {
      "text/html": [
       "<div>\n",
       "<style scoped>\n",
       "    .dataframe tbody tr th:only-of-type {\n",
       "        vertical-align: middle;\n",
       "    }\n",
       "\n",
       "    .dataframe tbody tr th {\n",
       "        vertical-align: top;\n",
       "    }\n",
       "\n",
       "    .dataframe thead th {\n",
       "        text-align: right;\n",
       "    }\n",
       "</style>\n",
       "<table border=\"1\" class=\"dataframe\">\n",
       "  <thead>\n",
       "    <tr style=\"text-align: right;\">\n",
       "      <th></th>\n",
       "      <th>mes</th>\n",
       "      <th>pais</th>\n",
       "      <th>mundo</th>\n",
       "      <th>area_regional</th>\n",
       "      <th>unidade</th>\n",
       "      <th>grupo_cargo</th>\n",
       "      <th>cargo</th>\n",
       "      <th>grade</th>\n",
       "      <th>banda</th>\n",
       "      <th>area</th>\n",
       "      <th>...</th>\n",
       "      <th>pct_acum_acumulado</th>\n",
       "      <th>pct_ating_fim_exer</th>\n",
       "      <th>pct_pts_fim_exer</th>\n",
       "      <th>pct_acum_fim_exer</th>\n",
       "      <th>status_meta</th>\n",
       "      <th>c33</th>\n",
       "      <th>c34</th>\n",
       "      <th>c35</th>\n",
       "      <th>c36</th>\n",
       "      <th>c37</th>\n",
       "    </tr>\n",
       "  </thead>\n",
       "  <tbody>\n",
       "    <tr>\n",
       "      <th>9610</th>\n",
       "      <td>32017</td>\n",
       "      <td>Brasil</td>\n",
       "      <td>CE</td>\n",
       "      <td>1</td>\n",
       "      <td>275</td>\n",
       "      <td>ESPECIALISTA</td>\n",
       "      <td>ESPECIALISTA IV</td>\n",
       "      <td>15.0</td>\n",
       "      <td>V-A</td>\n",
       "      <td>MARKETING</td>\n",
       "      <td>...</td>\n",
       "      <td>100.0</td>\n",
       "      <td>100.0</td>\n",
       "      <td>20.0</td>\n",
       "      <td>100.0</td>\n",
       "      <td>100</td>\n",
       "      <td>20</td>\n",
       "      <td>100.0</td>\n",
       "      <td>100.0</td>\n",
       "      <td>20.0</td>\n",
       "      <td>Monitoramento Aprovado</td>\n",
       "    </tr>\n",
       "    <tr>\n",
       "      <th>31343</th>\n",
       "      <td>42017</td>\n",
       "      <td>Brasil</td>\n",
       "      <td>CE</td>\n",
       "      <td>1</td>\n",
       "      <td>275</td>\n",
       "      <td>ESPECIALISTA</td>\n",
       "      <td>ESPECIALISTA IV</td>\n",
       "      <td>15.0</td>\n",
       "      <td>V-A</td>\n",
       "      <td>MARKETING</td>\n",
       "      <td>...</td>\n",
       "      <td>100.0</td>\n",
       "      <td>100.0</td>\n",
       "      <td>20.0</td>\n",
       "      <td>100.0</td>\n",
       "      <td>100</td>\n",
       "      <td>20</td>\n",
       "      <td>100.0</td>\n",
       "      <td>100.0</td>\n",
       "      <td>20.0</td>\n",
       "      <td>Monitoramento Aprovado</td>\n",
       "    </tr>\n",
       "    <tr>\n",
       "      <th>80305</th>\n",
       "      <td>62017</td>\n",
       "      <td>Brasil</td>\n",
       "      <td>CE</td>\n",
       "      <td>1</td>\n",
       "      <td>275</td>\n",
       "      <td>ESPECIALISTA</td>\n",
       "      <td>ESPECIALISTA IV</td>\n",
       "      <td>15.0</td>\n",
       "      <td>V-A</td>\n",
       "      <td>MARKETING</td>\n",
       "      <td>...</td>\n",
       "      <td>100.0</td>\n",
       "      <td>20.0</td>\n",
       "      <td>100.0</td>\n",
       "      <td>100.0</td>\n",
       "      <td>20</td>\n",
       "      <td>Monitoramento Aprovado</td>\n",
       "      <td>NaN</td>\n",
       "      <td>NaN</td>\n",
       "      <td>NaN</td>\n",
       "      <td>NaN</td>\n",
       "    </tr>\n",
       "    <tr>\n",
       "      <th>231383</th>\n",
       "      <td>62017</td>\n",
       "      <td>PanamÁ¡</td>\n",
       "      <td>Finance</td>\n",
       "      <td>4</td>\n",
       "      <td>258</td>\n",
       "      <td>NaN</td>\n",
       "      <td>NaN</td>\n",
       "      <td>NaN</td>\n",
       "      <td>NaN</td>\n",
       "      <td>NaN</td>\n",
       "      <td>...</td>\n",
       "      <td>NaN</td>\n",
       "      <td>NaN</td>\n",
       "      <td>100.0</td>\n",
       "      <td>40.0</td>\n",
       "      <td>NaN</td>\n",
       "      <td>100</td>\n",
       "      <td>40.0</td>\n",
       "      <td>NaN</td>\n",
       "      <td>NaN</td>\n",
       "      <td>NaN</td>\n",
       "    </tr>\n",
       "    <tr>\n",
       "      <th>231385</th>\n",
       "      <td>62017</td>\n",
       "      <td>PanamÁ¡</td>\n",
       "      <td>Finance</td>\n",
       "      <td>4</td>\n",
       "      <td>258</td>\n",
       "      <td>NaN</td>\n",
       "      <td>NaN</td>\n",
       "      <td>NaN</td>\n",
       "      <td>NaN</td>\n",
       "      <td>NaN</td>\n",
       "      <td>...</td>\n",
       "      <td>NaN</td>\n",
       "      <td>NaN</td>\n",
       "      <td>100.0</td>\n",
       "      <td>30.0</td>\n",
       "      <td>NaN</td>\n",
       "      <td>100</td>\n",
       "      <td>30.0</td>\n",
       "      <td>NaN</td>\n",
       "      <td>NaN</td>\n",
       "      <td>NaN</td>\n",
       "    </tr>\n",
       "  </tbody>\n",
       "</table>\n",
       "<p>5 rows × 38 columns</p>\n",
       "</div>"
      ],
      "text/plain": [
       "          mes     pais    mundo  area_regional  unidade   grupo_cargo  \\\n",
       "9610    32017   Brasil       CE              1      275  ESPECIALISTA   \n",
       "31343   42017   Brasil       CE              1      275  ESPECIALISTA   \n",
       "80305   62017   Brasil       CE              1      275  ESPECIALISTA   \n",
       "231383  62017  PanamÁ¡  Finance              4      258           NaN   \n",
       "231385  62017  PanamÁ¡  Finance              4      258           NaN   \n",
       "\n",
       "                  cargo  grade banda       area           ...            \\\n",
       "9610    ESPECIALISTA IV   15.0   V-A  MARKETING           ...             \n",
       "31343   ESPECIALISTA IV   15.0   V-A  MARKETING           ...             \n",
       "80305   ESPECIALISTA IV   15.0   V-A  MARKETING           ...             \n",
       "231383              NaN    NaN   NaN        NaN           ...             \n",
       "231385              NaN    NaN   NaN        NaN           ...             \n",
       "\n",
       "        pct_acum_acumulado  pct_ating_fim_exer pct_pts_fim_exer  \\\n",
       "9610                 100.0               100.0             20.0   \n",
       "31343                100.0               100.0             20.0   \n",
       "80305                100.0                20.0            100.0   \n",
       "231383                 NaN                 NaN            100.0   \n",
       "231385                 NaN                 NaN            100.0   \n",
       "\n",
       "       pct_acum_fim_exer status_meta                     c33    c34    c35  \\\n",
       "9610               100.0         100                      20  100.0  100.0   \n",
       "31343              100.0         100                      20  100.0  100.0   \n",
       "80305              100.0          20  Monitoramento Aprovado    NaN    NaN   \n",
       "231383              40.0         NaN                     100   40.0    NaN   \n",
       "231385              30.0         NaN                     100   30.0    NaN   \n",
       "\n",
       "         c36                     c37  \n",
       "9610    20.0  Monitoramento Aprovado  \n",
       "31343   20.0  Monitoramento Aprovado  \n",
       "80305    NaN                     NaN  \n",
       "231383   NaN                     NaN  \n",
       "231385   NaN                     NaN  \n",
       "\n",
       "[5 rows x 38 columns]"
      ]
     },
     "execution_count": 6,
     "metadata": {},
     "output_type": "execute_result"
    }
   ],
   "source": [
    "df[~df['c33'].isna()].head()"
   ]
  },
  {
   "cell_type": "markdown",
   "metadata": {
    "_uuid": "5e8f1f079b3a50b543c8b1cb6fe6af078e9e2f2c"
   },
   "source": [
    "#### Notas e Observações\n",
    "\n",
    "* Observa-se que há um problema na coluna **Regra Alcance Parcial**, pois em alguns casos seu texto se divide em outras colunas, causando a criação de **colunas a mais não alinhadas****** com o resto da base.\n",
    "\n",
    "============================================================="
   ]
  },
  {
   "cell_type": "markdown",
   "metadata": {
    "_uuid": "29140fdce757b26e796112af50a94ab39d3762a5"
   },
   "source": [
    "### 2.2 Concertando Colunas\n",
    "\n",
    "Como foi observado, a coluna  **Regra Alcance Parcial** em algumas linhas está quebrada, gerando colunas a mais e quebrando a ordem da colunas. Para alinhar as colunas sem ter que deletar as linhas com problema cada linha será tratada de forma a se obter o texto inteiro da coluna  **Regra Alcance Parcial** e alinhar as outras colunas. Por fim as  serão removidas as colunas extras."
   ]
  },
  {
   "cell_type": "code",
   "execution_count": 7,
   "metadata": {
    "_uuid": "3f9f7cf21a34d1f34c3860465bd5a9ab587d882d"
   },
   "outputs": [
    {
     "data": {
      "text/plain": [
       "Não                                                                   101892\n",
       "Sim                                                                     4818\n",
       "05% hs paradas: 80% dos pontos                                            65\n",
       " available at SDCA+\"                                                      34\n",
       " Self-assesment                                                           26\n",
       " Control and Gobernance) is achived\"                                       8\n",
       " control and government) is received\"                                      7\n",
       " control and goverment) is achieved.\"                                      4\n",
       "5% goal                                                                    2\n",
       " validated with VP and implemented in the market = 60% of points\"\"         1\n",
       "Name: meta_projeto, dtype: int64"
      ]
     },
     "execution_count": 7,
     "metadata": {},
     "output_type": "execute_result"
    }
   ],
   "source": [
    "# distribuição antes de Meta Projeto \n",
    "df.meta_projeto.value_counts()"
   ]
  },
  {
   "cell_type": "code",
   "execution_count": 8,
   "metadata": {
    "_uuid": "eb336562ee9eeb613bca467a38cca986a0d5be94"
   },
   "outputs": [],
   "source": [
    "df['UltNAN'] = np.nan # coluna de nan para usar na limpeza\n",
    "colunas_problema = nome_colunas[21:]"
   ]
  },
  {
   "cell_type": "code",
   "execution_count": 9,
   "metadata": {
    "_uuid": "e272d5b1bece72ec110f52c59795fc21cb959c87"
   },
   "outputs": [],
   "source": [
    "# concertando colunas\n",
    "for i in range(6):\n",
    "    idxs = df[~df.meta_projeto.isin(['Sim', 'Não', np.nan, np.NAN])].index\n",
    "    df.loc[idxs, 'regra_alcance_parcial'] = df.loc[idxs, 'regra_alcance_parcial'].fillna('').astype(str) + ' ' +  df.loc[idxs, 'meta_projeto'].fillna('').astype(str)\n",
    "    for i in range(1, len(colunas_problema) - 1):\n",
    "        df.loc[idxs, colunas_problema[i]] = df.loc[idxs, colunas_problema[i+1]].values"
   ]
  },
  {
   "cell_type": "code",
   "execution_count": 10,
   "metadata": {
    "_uuid": "5dc82c986d262fe7de65bfd9c9072cf2fa2f5fd4"
   },
   "outputs": [],
   "source": [
    "# removendo colunas\n",
    "df.drop([ 'c33', 'c34', 'c35', 'c36', 'c37', 'UltNAN'], axis=1, inplace=True)"
   ]
  },
  {
   "cell_type": "code",
   "execution_count": 11,
   "metadata": {
    "_uuid": "3f9f7cf21a34d1f34c3860465bd5a9ab587d882d"
   },
   "outputs": [
    {
     "data": {
      "text/plain": [
       "Não    101895\n",
       "Sim      4818\n",
       "Name: meta_projeto, dtype: int64"
      ]
     },
     "execution_count": 11,
     "metadata": {},
     "output_type": "execute_result"
    }
   ],
   "source": [
    "# distribuição de Meta Projeto depois da limpeza das colunas\n",
    "df.meta_projeto.value_counts()"
   ]
  },
  {
   "cell_type": "markdown",
   "metadata": {
    "_uuid": "de9b2c1dda24dbc79219084c9f4b018b521a0d77"
   },
   "source": [
    "### 2.3 Fix Dtypes\n",
    "\n",
    "Em geral os dados parecer ser todos categoricos fora os relacionados a méta, ajustando os tipos fica mais fácil mexer nos dados mais a frente."
   ]
  },
  {
   "cell_type": "code",
   "execution_count": 12,
   "metadata": {
    "_uuid": "cb186da83816434d525c4fcf5b8d6d119e1174ef"
   },
   "outputs": [],
   "source": [
    "def detalha_colunas(df):\n",
    "    for col in df.columns:\n",
    "        cnum = df.columns.get_loc(col)\n",
    "        dtype = df[col].dtype\n",
    "        nuniques = df[col].nunique()\n",
    "        examples = df[col].unique()[:1]\n",
    "        print('tipo {}\\tcoluna {:20}\\texemplo {}'.format(dtype, col, *examples))"
   ]
  },
  {
   "cell_type": "code",
   "execution_count": 13,
   "metadata": {},
   "outputs": [
    {
     "name": "stdout",
     "output_type": "stream",
     "text": [
      "tipo int64\tcoluna mes                 \texemplo 32017\n",
      "tipo object\tcoluna pais                \texemplo Brasil\n",
      "tipo object\tcoluna mundo               \texemplo Sales\n",
      "tipo int64\tcoluna area_regional       \texemplo 10\n",
      "tipo int64\tcoluna unidade             \texemplo 78\n",
      "tipo object\tcoluna grupo_cargo         \texemplo GER DE VENDAS REVENDA\n",
      "tipo object\tcoluna cargo               \texemplo GERENTE DE VENDAS REVENDA II\n",
      "tipo float64\tcoluna grade               \texemplo 12.0\n",
      "tipo object\tcoluna banda               \texemplo VI-B\n",
      "tipo object\tcoluna area                \texemplo GERÊNCIA CD\n",
      "tipo int64\tcoluna id_funcionario      \texemplo 2774\n",
      "tipo int64\tcoluna id_gestor           \texemplo 237\n",
      "tipo object\tcoluna id_kpi              \texemplo 001VA0561\n",
      "tipo object\tcoluna diretoria           \texemplo Diretoria de Vendas e Distribuição\n",
      "tipo object\tcoluna area_diretoria      \texemplo AC\n",
      "tipo object\tcoluna funcao              \texemplo GER DE VENDAS\n",
      "tipo object\tcoluna tipo_meta           \texemplo Mandatório\n",
      "tipo object\tcoluna categoria_kpi       \texemplo Market Share/ Volume\n",
      "tipo int64\tcoluna nome_kpi            \texemplo 4729\n",
      "tipo int64\tcoluna peso_kpi            \texemplo 25\n",
      "tipo object\tcoluna prazo               \texemplo 12/31/2017 12:00:00 AM\n",
      "tipo object\tcoluna regra_alcance_parcial\texemplo PA1: 99,5% da meta PA2: 99,0% da meta\n",
      "tipo object\tcoluna meta_projeto        \texemplo Não\n",
      "tipo object\tcoluna pct_ating_mes       \texemplo 0\n",
      "tipo object\tcoluna pct_pts_mes         \texemplo 0\n",
      "tipo object\tcoluna pct_acum_mes        \texemplo 0\n",
      "tipo object\tcoluna pct_ating_acum      \texemplo 0\n",
      "tipo object\tcoluna pct_pts_acumulado   \texemplo 0\n",
      "tipo object\tcoluna pct_acum_acumulado  \texemplo 0.0\n",
      "tipo object\tcoluna pct_ating_fim_exer  \texemplo 100.0\n",
      "tipo object\tcoluna pct_pts_fim_exer    \texemplo 100.0\n",
      "tipo object\tcoluna pct_acum_fim_exer   \texemplo 25.0\n",
      "tipo object\tcoluna status_meta         \texemplo Monitoramento Aprovado\n"
     ]
    }
   ],
   "source": [
    "detalha_colunas(df)"
   ]
  },
  {
   "cell_type": "code",
   "execution_count": 14,
   "metadata": {},
   "outputs": [],
   "source": [
    "# Colocando as colunas não relacionadas a meta como texto\n",
    "df[df.columns[:23]] = df[df.columns[:23]].astype('str')\n",
    "df['status_meta'] = df['status_meta'].astype('str')\n",
    "df[df.columns[23:32]] = df[df.columns[23:32]].astype(np.number)"
   ]
  },
  {
   "cell_type": "code",
   "execution_count": 15,
   "metadata": {},
   "outputs": [
    {
     "name": "stdout",
     "output_type": "stream",
     "text": [
      "tipo object\tcoluna mes                 \texemplo 32017\n",
      "tipo object\tcoluna pais                \texemplo Brasil\n",
      "tipo object\tcoluna mundo               \texemplo Sales\n",
      "tipo object\tcoluna area_regional       \texemplo 10\n",
      "tipo object\tcoluna unidade             \texemplo 78\n",
      "tipo object\tcoluna grupo_cargo         \texemplo GER DE VENDAS REVENDA\n",
      "tipo object\tcoluna cargo               \texemplo GERENTE DE VENDAS REVENDA II\n",
      "tipo object\tcoluna grade               \texemplo 12.0\n",
      "tipo object\tcoluna banda               \texemplo VI-B\n",
      "tipo object\tcoluna area                \texemplo GERÊNCIA CD\n",
      "tipo object\tcoluna id_funcionario      \texemplo 2774\n",
      "tipo object\tcoluna id_gestor           \texemplo 237\n",
      "tipo object\tcoluna id_kpi              \texemplo 001VA0561\n",
      "tipo object\tcoluna diretoria           \texemplo Diretoria de Vendas e Distribuição\n",
      "tipo object\tcoluna area_diretoria      \texemplo AC\n",
      "tipo object\tcoluna funcao              \texemplo GER DE VENDAS\n",
      "tipo object\tcoluna tipo_meta           \texemplo Mandatório\n",
      "tipo object\tcoluna categoria_kpi       \texemplo Market Share/ Volume\n",
      "tipo object\tcoluna nome_kpi            \texemplo 4729\n",
      "tipo object\tcoluna peso_kpi            \texemplo 25\n",
      "tipo object\tcoluna prazo               \texemplo 12/31/2017 12:00:00 AM\n",
      "tipo object\tcoluna regra_alcance_parcial\texemplo PA1: 99,5% da meta PA2: 99,0% da meta\n",
      "tipo object\tcoluna meta_projeto        \texemplo Não\n",
      "tipo float64\tcoluna pct_ating_mes       \texemplo 0.0\n",
      "tipo float64\tcoluna pct_pts_mes         \texemplo 0.0\n",
      "tipo float64\tcoluna pct_acum_mes        \texemplo 0.0\n",
      "tipo float64\tcoluna pct_ating_acum      \texemplo 0.0\n",
      "tipo float64\tcoluna pct_pts_acumulado   \texemplo 0.0\n",
      "tipo float64\tcoluna pct_acum_acumulado  \texemplo 0.0\n",
      "tipo float64\tcoluna pct_ating_fim_exer  \texemplo 100.0\n",
      "tipo float64\tcoluna pct_pts_fim_exer    \texemplo 100.0\n",
      "tipo float64\tcoluna pct_acum_fim_exer   \texemplo 25.0\n",
      "tipo object\tcoluna status_meta         \texemplo Monitoramento Aprovado\n"
     ]
    }
   ],
   "source": [
    "detalha_colunas(df)"
   ]
  },
  {
   "cell_type": "markdown",
   "metadata": {
    "_uuid": "f7f56d7c39183b49dd81c66478a115a29ff68641"
   },
   "source": [
    "### 2.4 Fix Mês\n",
    "\n",
    "A coluna `mes` está com uma formatação um não muito legal."
   ]
  },
  {
   "cell_type": "code",
   "execution_count": 16,
   "metadata": {
    "_uuid": "8b70eef68fdebea975f2e85a733f444158e80d4d"
   },
   "outputs": [
    {
     "name": "stdout",
     "output_type": "stream",
     "text": [
      "32017-42017-52017-62017-72017-82017-92017-102017-112017-122017\n"
     ]
    }
   ],
   "source": [
    "print(*df.mes.unique(), sep='-')"
   ]
  },
  {
   "cell_type": "code",
   "execution_count": 17,
   "metadata": {
    "_uuid": "7cbfd809cd72ea33ad2d21ef5369d045dd3a97d1"
   },
   "outputs": [],
   "source": [
    "df['mes'] = df.mes.str.extract('(^.*)(?=.{4}$)').astype(int)"
   ]
  },
  {
   "cell_type": "code",
   "execution_count": 18,
   "metadata": {},
   "outputs": [
    {
     "name": "stdout",
     "output_type": "stream",
     "text": [
      "3-4-5-6-7-8-9-10-11-12\n"
     ]
    }
   ],
   "source": [
    "print(*df.mes.unique(), sep='-')"
   ]
  },
  {
   "cell_type": "markdown",
   "metadata": {
    "_uuid": "eaab7969d9776e18491e53bb15385c344a581e60"
   },
   "source": [
    "### 2.5 Fix Pais\n",
    "\n",
    "Essa coluna está ok, mas temos um problema de encoding para o valor Panama."
   ]
  },
  {
   "cell_type": "code",
   "execution_count": 19,
   "metadata": {
    "_uuid": "5d6b7ddccb45f6b80f00b082a9106ffddc078be1"
   },
   "outputs": [
    {
     "name": "stdout",
     "output_type": "stream",
     "text": [
      "Brasil - Barbados - Cuba - Dominica - Guatemala - PanamÁ¡ - Rep. Dominicana - Saint Vincent - Panama\n"
     ]
    }
   ],
   "source": [
    "print(*df.pais.unique(), sep=' - ')"
   ]
  },
  {
   "cell_type": "code",
   "execution_count": 20,
   "metadata": {
    "_uuid": "37527ee75f261d4607260ffebfe7b0a58791828d",
    "scrolled": true
   },
   "outputs": [],
   "source": [
    "df.loc[df.pais == 'PanamÁ¡', 'pais'] = 'Panama'"
   ]
  },
  {
   "cell_type": "code",
   "execution_count": 21,
   "metadata": {
    "_uuid": "c2fc5365806ad5c8ec9e1bd9496ba458b9c90699"
   },
   "outputs": [
    {
     "name": "stdout",
     "output_type": "stream",
     "text": [
      "Brasil - Barbados - Cuba - Dominica - Guatemala - Panama - Rep. Dominicana - Saint Vincent\n"
     ]
    }
   ],
   "source": [
    "print(*df.pais.unique(), sep=' - ')"
   ]
  },
  {
   "cell_type": "code",
   "execution_count": 22,
   "metadata": {
    "_uuid": "d7648ae0a3a5545400023b237b640526026e85bb"
   },
   "outputs": [
    {
     "data": {
      "text/plain": [
       "Brasil             230229\n",
       "Rep. Dominicana     24120\n",
       "Panama               8279\n",
       "Barbados             4131\n",
       "Guatemala            2799\n",
       "Saint Vincent         753\n",
       "Dominica              262\n",
       "Cuba                   60\n",
       "Name: pais, dtype: int64"
      ]
     },
     "execution_count": 22,
     "metadata": {},
     "output_type": "execute_result"
    }
   ],
   "source": [
    "df.pais.value_counts()"
   ]
  },
  {
   "cell_type": "markdown",
   "metadata": {
    "_uuid": "7fbc4efedb440d54a0707124fd072f1d7bef4245"
   },
   "source": [
    "### 2.6 Fix NLP \n",
    "\n",
    "As colunas que possuem textos estão com os valores quebrados e não padronizados, dessa forma uma aplicação de algumas formas básicas de formatação de texto pode ajudar dimunuir o número de valores distintos."
   ]
  },
  {
   "cell_type": "code",
   "execution_count": 23,
   "metadata": {
    "_uuid": "291024dd7c5bae3bccf3b7ef37bf1af4810c5fbe"
   },
   "outputs": [
    {
     "name": "stdout",
     "output_type": "stream",
     "text": [
      "Coluna: grupo_cargo\n",
      "GER DE VENDAS REVENDA   SUPERVISOR FABRIL   ESPECIALISTA   GER ENGENHARIA   COORD   GER OPERAçÁ•ES DISTRIB ROTA   COORD FABRIL   ANALISTA FABRIL   GER OPERAçÁ•ES E DISTRIB   ENGENHEIRO FABRIL\n",
      "nunique: 141\n",
      "\n",
      "Coluna: cargo\n",
      "GERENTE DE VENDAS REVENDA II   SUPERVISOR SENIOR FABRIL   ESPECIALISTA II   GER ENGENHARIA III   COORDENADOR II   GER OPERAçÁ•ES E DISTRIB ROTA I   ESPECIALISTA I   COORDENADOR PLENO FABRIL   ANALISTA SENIOR FABRIL   GER OPERAçÁ•ES E DISTRIB IV\n",
      "nunique: 340\n"
     ]
    }
   ],
   "source": [
    "# Exemplo colunas sobre o cargo\n",
    "print('Coluna: grupo_cargo')\n",
    "print(*df.grupo_cargo.unique()[:10], sep='   ')\n",
    "print('nunique: {}'.format(df.grupo_cargo.nunique()))\n",
    "print('\\nColuna: cargo')\n",
    "print(*df.cargo.unique()[:10], sep='   ')\n",
    "print('nunique: {}'.format(df.cargo.nunique()))"
   ]
  },
  {
   "cell_type": "code",
   "execution_count": 31,
   "metadata": {
    "scrolled": true
   },
   "outputs": [
    {
     "name": "stdout",
     "output_type": "stream",
     "text": [
      "\n",
      "Coluna cargo\n",
      "Unique antes:   340\n",
      "Unique depois:  330\n",
      "\n",
      "Coluna grupo_cargo\n",
      "Unique antes:   140\n",
      "Unique depois:  140\n",
      "\n",
      "Coluna area\n",
      "Unique antes:   112\n",
      "Unique depois:  108\n",
      "\n",
      "Coluna diretoria\n",
      "Unique antes:    15\n",
      "Unique depois:   15\n",
      "\n",
      "Coluna mundo\n",
      "Unique antes:    31\n",
      "Unique depois:   31\n",
      "\n",
      "Coluna area_diretoria\n",
      "Unique antes:     9\n",
      "Unique depois:    9\n",
      "\n",
      "Coluna funcao\n",
      "Unique antes:    94\n",
      "Unique depois:   94\n",
      "\n",
      "Coluna banda\n",
      "Unique antes:    15\n",
      "Unique depois:   15\n",
      "\n",
      "Coluna tipo_meta\n",
      "Unique antes:     9\n",
      "Unique depois:    9\n",
      "\n",
      "Coluna categoria_kpi\n",
      "Unique antes:   139\n",
      "Unique depois:  135\n",
      "\n",
      "Coluna regra_alcance_parcial\n",
      "Unique antes:  1464\n",
      "Unique depois: 1441\n"
     ]
    }
   ],
   "source": [
    "# Aplicando a transformação\n",
    "cols = ['cargo', 'grupo_cargo', 'area', 'diretoria', 'mundo', 'area_diretoria', 'funcao', \n",
    " 'banda', 'tipo_meta', 'categoria_kpi', 'regra_alcance_parcial']\n",
    "for col in cols:\n",
    "    print('\\nColuna', col)\n",
    "    print('Unique antes:  {:4}'.format(df[col].nunique()))\n",
    "    df[col] = df[col].str.lower().str.replace(r'[^\\w\\s]+', '')\n",
    "    df[col] = df[col].str.normalize('NFKD').str.encode('ascii', errors='ignore').str.decode('utf-8')\n",
    "    print('Unique depois: {:4}'.format(df[col].nunique()))"
   ]
  },
  {
   "cell_type": "markdown",
   "metadata": {},
   "source": [
    "### 3. Novos Atributos"
   ]
  },
  {
   "cell_type": "markdown",
   "metadata": {},
   "source": [
    "### 3.1 Abreviação Cargo\n",
    "\n",
    "Muitos nomes de cargo tem no começo do texto um n-gram generalizado do tipo de cargo. (e.g. Gerente -> ger)"
   ]
  },
  {
   "cell_type": "code",
   "execution_count": 34,
   "metadata": {},
   "outputs": [
    {
     "data": {
      "text/plain": [
       "Index(['mes', 'pais', 'mundo', 'area_regional', 'unidade', 'grupo_cargo',\n",
       "       'cargo', 'grade', 'banda', 'area', 'id_funcionario', 'id_gestor',\n",
       "       'id_kpi', 'diretoria', 'area_diretoria', 'funcao', 'tipo_meta',\n",
       "       'categoria_kpi', 'nome_kpi', 'peso_kpi', 'prazo',\n",
       "       'regra_alcance_parcial', 'meta_projeto', 'pct_ating_mes', 'pct_pts_mes',\n",
       "       'pct_acum_mes', 'pct_ating_acum', 'pct_pts_acumulado',\n",
       "       'pct_acum_acumulado', 'pct_ating_fim_exer', 'pct_pts_fim_exer',\n",
       "       'pct_acum_fim_exer', 'status_meta'],\n",
       "      dtype='object')"
      ]
     },
     "execution_count": 34,
     "metadata": {},
     "output_type": "execute_result"
    }
   ],
   "source": [
    "df.columns"
   ]
  },
  {
   "cell_type": "code",
   "execution_count": 35,
   "metadata": {},
   "outputs": [],
   "source": [
    "df['abrev_cargo'] = df.cargo.str[:3]\n",
    "df['abrev_grupo_cargo'] = df.grupo_cargo.str[:3]"
   ]
  },
  {
   "cell_type": "code",
   "execution_count": 42,
   "metadata": {},
   "outputs": [
    {
     "data": {
      "text/plain": [
       "cargo          330\n",
       "grupo_cargo    140\n",
       "dtype: int64"
      ]
     },
     "execution_count": 42,
     "metadata": {},
     "output_type": "execute_result"
    }
   ],
   "source": [
    "df[['cargo','grupo_cargo']].nunique()"
   ]
  },
  {
   "cell_type": "code",
   "execution_count": 41,
   "metadata": {},
   "outputs": [
    {
     "data": {
      "text/plain": [
       "abrev_cargo          28\n",
       "abrev_grupo_cargo    23\n",
       "dtype: int64"
      ]
     },
     "execution_count": 41,
     "metadata": {},
     "output_type": "execute_result"
    }
   ],
   "source": [
    "df[['abrev_cargo','abrev_grupo_cargo']].nunique()"
   ]
  },
  {
   "cell_type": "markdown",
   "metadata": {},
   "source": [
    "### 3.2 Nível Cargo\n",
    "\n",
    "Vários cargos são divididos em níveis e essa descrição está no fim do nome do cargo. (e.g. analista III -> III)"
   ]
  },
  {
   "cell_type": "code",
   "execution_count": 46,
   "metadata": {},
   "outputs": [],
   "source": [
    "df['nivel_cargo'] = df.cargo.str.extract(r'([iv]{1,3}$)')"
   ]
  },
  {
   "cell_type": "markdown",
   "metadata": {},
   "source": [
    "### 3.3 Regra Alcance Parcial\n",
    "\n",
    "Essa coluna é extremamente diversa e é um caso que é bem interessante generalizar de alguma forma"
   ]
  },
  {
   "cell_type": "code",
   "execution_count": 82,
   "metadata": {},
   "outputs": [],
   "source": [
    "# Lista com todas as palavras que tem na coluna\n",
    "words_list = []\n",
    "for x in df.regra_alcance_parcial.str.split():\n",
    "    words_list += x"
   ]
  },
  {
   "cell_type": "code",
   "execution_count": 86,
   "metadata": {},
   "outputs": [
    {
     "data": {
      "text/plain": [
       "real      200613\n",
       "lacuna    170139\n",
       "pontos    169591\n",
       "80        166257\n",
       "meta      121824\n",
       "dtype: int64"
      ]
     },
     "execution_count": 86,
     "metadata": {},
     "output_type": "execute_result"
    }
   ],
   "source": [
    "# Palavras mais comuns\n",
    "pd.Series.value_counts(words_list)[:5]"
   ]
  },
  {
   "cell_type": "code",
   "execution_count": 119,
   "metadata": {},
   "outputs": [],
   "source": [
    "# Extraindo informações da coluna\n",
    "df['regra_n1'] = df.regra_alcance_parcial.str.extract(r'(\\d{2})')\n",
    "df['regra_n2'] = df.regra_alcance_parcial.str.extract(r'(?:\\d{2})(?:.*)(\\d{2})')\n",
    "df['regra_n3'] = df.regra_alcance_parcial.str.extract(r'(?:\\d{2})(?:.*)(?:\\d{2})(?:.*)(\\d{2})')\n",
    "df['regra_n4'] = df.regra_alcance_parcial.str.extract(r'(?:\\d{2})(?:.*)(?:\\d{2})(?:.*)(?:\\d{2})(?:.*)(\\d{2})')\n",
    "df['regra_real'] = df.regra_alcance_parcial.str.contains('real')\n",
    "df['regra_lacuna'] = df.regra_alcance_parcial.str.contains('lacuna')\n",
    "df['regra_pontosl'] = df.regra_alcance_parcial.str.contains('pontos')"
   ]
  },
  {
   "cell_type": "code",
   "execution_count": null,
   "metadata": {},
   "outputs": [],
   "source": []
  }
 ],
 "metadata": {
  "kernelspec": {
   "display_name": "Python [conda env:ambev_data_challenge]",
   "language": "python",
   "name": "conda-env-ambev_data_challenge-py"
  },
  "language_info": {
   "codemirror_mode": {
    "name": "ipython",
    "version": 3
   },
   "file_extension": ".py",
   "mimetype": "text/x-python",
   "name": "python",
   "nbconvert_exporter": "python",
   "pygments_lexer": "ipython3",
   "version": "3.7.0"
  }
 },
 "nbformat": 4,
 "nbformat_minor": 1
}
